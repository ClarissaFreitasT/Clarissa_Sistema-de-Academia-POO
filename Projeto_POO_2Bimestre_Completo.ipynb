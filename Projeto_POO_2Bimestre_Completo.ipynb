{
 "cells": [
  {
   "cell_type": "markdown",
   "id": "fcbe0b0b",
   "metadata": {},
   "source": [
    "# 📘 Projeto de Programação Orientada a Objetos – 2º Bimestre\n",
    "\n",
    "**Nome do Aluno:**                      \n",
    "\n",
    "**Turma:**\n",
    "\n",
    "**Tema Escolhido:**"
   ]
  },
  {
   "cell_type": "markdown",
   "id": "47e697ce",
   "metadata": {},
   "source": [
    "Lembre-se esse projeto deve ser personalizado, todas as classe e metodos devem ter uma referencia ao seu nome, exemplo:\n",
    "\n",
    "class Carro_Fabio:\n",
    "\n",
    "    def __init__(self, tipo, cor, rodas):\n",
    "        self.tipo = tipo\n",
    "        self.cor = cor\n",
    "        self.rodas = rodas\n",
    "        \n",
    "    def alterar_cor_Fabio(self, nova_cor):\n",
    "        self.cor = nova_cor\n",
    "        return self.cor\n",
    "    "
   ]
  },
  {
   "cell_type": "markdown",
   "id": "bf0b9458",
   "metadata": {},
   "source": [
    "## PARTE 1 – Classe Principal e Objetos\n",
    "\n",
    "**Tarefas:**\n",
    "- Definir e criar a classe principal com pelo menos 3 atributos.\n",
    "- Implementar o método construtor (`__init__`).\n",
    "- Criar pelo menos 2 objetos da classe principal.\n",
    "- Implementar um método de exibição de dados.\n",
    "\n",
    "**Código:**"
   ]
  },
  {
   "cell_type": "code",
   "execution_count": 3,
   "id": "5721fa89",
   "metadata": {},
   "outputs": [
    {
     "name": "stdout",
     "output_type": "stream",
     "text": [
      "Treino: Corrida\n",
      "Tipo: Cardio\n",
      "Duração: 40 min\n",
      "------------------------------\n",
      "Treino: Musculação\n",
      "Tipo: Força\n",
      "Duração: 50 min\n",
      "------------------------------\n"
     ]
    }
   ],
   "source": [
    "# Desenvolva aqui o código da Parte 1\n",
    "class Treino:\n",
    "    def __init__(self, nome, tipo, duracao):\n",
    "        self.nome = nome\n",
    "        self.tipo = tipo\n",
    "        self.duracao = duracao\n",
    "\n",
    "    def exibir_detalhes(self):\n",
    "        print(f\"Treino: {self.nome}\")\n",
    "        print(f\"Tipo: {self.tipo}\")\n",
    "        print(f\"Duração: {self.duracao}\")\n",
    "        print(\"-\" * 30)\n",
    "\n",
    "treino1= Treino(\"Corrida\", \"Cardio\", \"40 min\")\n",
    "treino2 = Treino(\"Musculação\",\"Força\", \"50 min\")  \n",
    "\n",
    "treino1.exibir_detalhes()\n",
    "treino2.exibir_detalhes()"
   ]
  },
  {
   "cell_type": "markdown",
   "id": "f2cf3375",
   "metadata": {},
   "source": [
    "## PARTE 2 – Métodos e Herança\n",
    "\n",
    "**Tarefas:**\n",
    "- Criar pelo menos 2 métodos de ação para a classe principal.\n",
    "- Criar uma subclasse herdando da classe principal.\n",
    "- Adicionar pelo menos 1 novo atributo e 1 novo método exclusivo na subclasse.\n",
    "- Utilizar `super()` no construtor da subclasse.\n",
    "\n",
    "**Código:**"
   ]
  },
  {
   "cell_type": "code",
   "execution_count": 4,
   "id": "5f456eb1",
   "metadata": {},
   "outputs": [],
   "source": [
    "# Desenvolva aqui o código da Parte 2\n",
    "class Treino:\n",
    "    def __init__(self, nome, tipo, duracao):\n",
    "        self.nome = nome\n",
    "        self.tipo = tipo\n",
    "        self.duracao = duracao\n",
    "\n",
    "    def exibir_detalhes(self):\n",
    "        print(f\"Treino: {self.nome}\")\n",
    "        print(f\"Tipo: {self.tipo}\")\n",
    "        print(f\"Duração: {self.duracao}\")\n",
    "        print(\"-\" * 30)\n",
    "\n",
    "    def alterar_duracao(self, nova_duracao):\n",
    "        self.duracao = nova_duracao\n",
    "        print(f\"A duração do treino '{self.nome}' foi alterada para {self.duracao} minutos.\")\n",
    "\n",
    "    def alterar_tipo(self, novo_tipo):\n",
    "        self.tipo = novo_tipo\n",
    "        print(f\"O tipo do treino '{self.nome}' foi alterado para {self.tipo}.\")\n",
    "\n",
    "class TreinoForça(Treino):\n",
    "    def __init__(self, nome, duracao, serie):\n",
    "        super().__init__(nome, \"força\", duracao)\n",
    "        self.serie = serie \n",
    "\n",
    "    def exibir_detalhes_forca(self):\n",
    "        print(f\"O treino '{self.nome}' teve {self.serie} séries.\")\n"
   ]
  },
  {
   "cell_type": "markdown",
   "id": "3e0a77b0",
   "metadata": {},
   "source": [
    "## PARTE 3 – Encapsulamento e Abstração\n",
    "\n",
    "**Tarefas:**\n",
    "- Tornar pelo menos 1 atributo da classe principal privado (`__atributo`).\n",
    "- Criar métodos `get` e `set` para o atributo privado.\n",
    "- Implementar um método que contenha lógica interna (ex: cálculo, verificação).\n",
    "\n",
    "**Código:**"
   ]
  },
  {
   "cell_type": "code",
   "execution_count": null,
   "id": "0bdb445e",
   "metadata": {},
   "outputs": [],
   "source": [
    "# Desenvolva aqui o código da Parte 3\n",
    "class Usuario:\n",
    "    def __init__(self, nome, idade, email):\n",
    "        self.__nome = nome        \n",
    "        self.__idade = idade        \n",
    "        self.__email = email        \n",
    " \n",
    "    def get_idade(self):\n",
    "        return self.__idade\n",
    "    \n",
    "    def set_idade(self, idade):\n",
    "        self.__idade = idade       \n",
    "    \n",
    "    \n",
    "    def get_nome(self):\n",
    "        return self.__nome\n",
    "    \n",
    "    def set_nome(self, nome):\n",
    "        self.__nome = nome\n",
    "\n",
    "   \n",
    "    def exibir_dados(self):\n",
    "        print(f\"Nome: {self.__nome}\")\n",
    "        print(f\"Idade: {self.__idade}\")\n",
    "        print(f\"Email: {self.__email}\")\n",
    "\n",
    "    \n",
    "class Treino:\n",
    "    def __init__(self, nome, tipo, duracao, usuario):\n",
    "        self.nome = nome    \n",
    "        self.tipo = tipo                   \n",
    "        self.duracao = duracao             \n",
    "        self.__usuario = usuario         \n",
    "\n",
    "\n",
    "    def exibir_detalhes(self):\n",
    "        print(f\"Detalhes do treino:\")\n",
    "        print(f\"Nome do treino: {self.nome_treino}\")\n",
    "        print(f\"Tipo: {self.tipo}\")\n",
    "        print(f\"Duração: {self.duracao} minutos\")\n",
    "        print(f\"Informações do usuário:\")\n",
    "        self.__usuario.exibir_dados()  \n",
    "\n",
    "#teste\n",
    "   \n",
    "    def realizar_treino(self):\n",
    "        print(f\"Iniciando treino: {self.nome_treino}\")\n",
    "        print(f\"Tipo: {self.tipo} - Duração: {self.duracao} minutos\")\n",
    "        print(f\"Realizando treino para o usuário {self.__usuario.get_nome()}...\")"
   ]
  },
  {
   "cell_type": "markdown",
   "id": "fb9df3e9",
   "metadata": {},
   "source": [
    "## PARTE 4 – Polimorfismo e Banco de Dados\n",
    "\n",
    "**Tarefas:**\n",
    "- Implementar polimorfismo: sobrescrever um método na subclasse.\n",
    "- Integrar o sistema com banco de dados (MySQL ou SQLite).\n",
    "- Implementar inserção (INSERT), consulta (SELECT) e exclusão (DELETE) de registros no banco de dados.\n",
    "\n",
    "**Código:**"
   ]
  },
  {
   "cell_type": "code",
   "execution_count": 4,
   "id": "56a4c46a",
   "metadata": {},
   "outputs": [],
   "source": [
    "# Desenvolva aqui o código da Parte 4"
   ]
  },
  {
   "cell_type": "markdown",
   "id": "d8bbf974",
   "metadata": {},
   "source": [
    "## PARTE 5 – Projeto Final e Organização\n",
    "\n",
    "**Tarefas:**\n",
    "- Consolidar todas as partes do projeto em um único script organizado.\n",
    "- Comentar o código explicando cada parte.\n",
    "- Testar todas as funcionalidades.\n",
    "\n",
    "**Código:**"
   ]
  },
  {
   "cell_type": "code",
   "execution_count": null,
   "id": "54b3cdd7",
   "metadata": {},
   "outputs": [],
   "source": [
    "# Desenvolva aqui o código da Parte 5"
   ]
  }
 ],
 "metadata": {
  "kernelspec": {
   "display_name": "base",
   "language": "python",
   "name": "python3"
  },
  "language_info": {
   "codemirror_mode": {
    "name": "ipython",
    "version": 3
   },
   "file_extension": ".py",
   "mimetype": "text/x-python",
   "name": "python",
   "nbconvert_exporter": "python",
   "pygments_lexer": "ipython3",
   "version": "3.12.4"
  }
 },
 "nbformat": 4,
 "nbformat_minor": 5
}
